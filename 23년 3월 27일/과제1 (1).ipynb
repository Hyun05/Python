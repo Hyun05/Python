{
  "nbformat": 4,
  "nbformat_minor": 0,
  "metadata": {
    "colab": {
      "provenance": []
    },
    "kernelspec": {
      "name": "python3",
      "display_name": "Python 3"
    },
    "language_info": {
      "name": "python"
    }
  },
  "cells": [
    {
      "cell_type": "code",
      "execution_count": null,
      "metadata": {
        "colab": {
          "base_uri": "https://localhost:8080/"
        },
        "id": "nUVEbQdAYOt6",
        "outputId": "9d773049-34cb-428a-f9e9-e7c1528ad16a"
      },
      "outputs": [
        {
          "output_type": "stream",
          "name": "stdout",
          "text": [
            "14 31 33 29 18 42\n"
          ]
        }
      ],
      "source": [
        "import random\n",
        "\n",
        "rndNumber1 = random.randint(1,45)\n",
        "rndNumber2 = random.randint(1,45)\n",
        "rndNumber3 = random.randint(1,45)\n",
        "rndNumber4 = random.randint(1,45)\n",
        "rndNumber5 = random.randint(1,45)\n",
        "rndNumber6 = random.randint(1,45)\n",
        "\n",
        "\n",
        "\n",
        "print(rndNumber1, rndNumber2,rndNumber3,rndNumber4,rndNumber5,rndNumber6)"
      ]
    },
    {
      "cell_type": "code",
      "source": [
        "from traitlets.traitlets import Set\n",
        "import random\n",
        "\n",
        "lottoNumber =  [0,0,0,0,0,0]\n",
        "\n",
        "for i in range(6):\n",
        "  lottoNumber[i]= random.randint(1,45)\n",
        "for i in range(6):\n",
        "    print(lottoNumber[i],end=\" \")"
      ],
      "metadata": {
        "colab": {
          "base_uri": "https://localhost:8080/"
        },
        "id": "Pbx5So__ZGLj",
        "outputId": "59baac3a-1d88-4841-9303-a030bdcedf3d"
      },
      "execution_count": null,
      "outputs": [
        {
          "output_type": "stream",
          "name": "stdout",
          "text": [
            "12 14 41 44 31 45 "
          ]
        }
      ]
    },
    {
      "cell_type": "code",
      "source": [
        "import random\n",
        "\n",
        "\n",
        "foods = [\"떡볶이\", \"순대\",\"소고기\",\"쿠키\",\"라면\"]\n",
        "\n",
        "\n",
        "print(random.choice(foods))"
      ],
      "metadata": {
        "colab": {
          "base_uri": "https://localhost:8080/"
        },
        "id": "i8PVr63wbphq",
        "outputId": "7251fa14-3b1c-43c7-83f7-3889eabdb9a7"
      },
      "execution_count": null,
      "outputs": [
        {
          "output_type": "stream",
          "name": "stdout",
          "text": [
            "쿠키\n"
          ]
        }
      ]
    },
    {
      "cell_type": "code",
      "source": [
        "import random\n",
        "\n",
        "com = \"\"\n",
        "\n",
        "player=input(\"나의 가위/바위/보: \")\n",
        "\n",
        "com = random.choice([\"가위\",\"바위\",\"보\"])\n",
        "\n",
        "if player == com:\n",
        "   print(\"비겼습니다\")\n",
        "elif(player == \"가위\" and com ==\"보\") or (player == \"바위\" and com ==\"가위\") or (player == \"보\" and com ==\"바위\"):\n",
        "    print(com, \"이겼다\")\n",
        "else:\n",
        "    print(com, \"졌다\")\n",
        "\n"
      ],
      "metadata": {
        "colab": {
          "base_uri": "https://localhost:8080/"
        },
        "id": "GhWOt_jEc-nL",
        "outputId": "c9246496-aa38-4917-f28b-c20ab8702fa8"
      },
      "execution_count": null,
      "outputs": [
        {
          "output_type": "stream",
          "name": "stdout",
          "text": [
            "나의 가위/바위/보: 보\n",
            "바위 이겼다\n"
          ]
        }
      ]
    }
  ]
}