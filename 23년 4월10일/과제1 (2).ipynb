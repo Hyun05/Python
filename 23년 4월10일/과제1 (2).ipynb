{
  "nbformat": 4,
  "nbformat_minor": 0,
  "metadata": {
    "colab": {
      "provenance": []
    },
    "kernelspec": {
      "name": "python3",
      "display_name": "Python 3"
    },
    "language_info": {
      "name": "python"
    }
  },
  "cells": [
    {
      "cell_type": "code",
      "execution_count": null,
      "metadata": {
        "colab": {
          "base_uri": "https://localhost:8080/"
        },
        "id": "6lmM_6MQe6Sw",
        "outputId": "cf6e7899-f30a-45df-e10b-9248d12067c3"
      },
      "outputs": [
        {
          "output_type": "stream",
          "name": "stdout",
          "text": [
            "숫자: 10\n",
            "숫자: 20\n",
            "숫자: 30\n",
            "숫자: 40\n",
            "숫자: 50\n",
            "150\n"
          ]
        }
      ],
      "source": [
        "numlist = [0,0,0,0,0]\n",
        "\n",
        "numlist[0] = int(input(\"숫자: \"))\n",
        "numlist[1] = int(input(\"숫자: \"))\n",
        "numlist[2] = int(input(\"숫자: \"))\n",
        "numlist[3] = int(input(\"숫자: \"))\n",
        "numlist[4] = int(input(\"숫자: \"))\n",
        "\n",
        "sum = numlist[0] +numlist[1]+numlist[2]+numlist[3]+numlist[4]\n",
        "\n",
        "print(sum)"
      ]
    },
    {
      "cell_type": "code",
      "source": [
        "mylist = []\n",
        "\n",
        "mylist.append(\"안산\")\n",
        "mylist.append(\"공고\")\n",
        "\n",
        "print(mylist)"
      ],
      "metadata": {
        "colab": {
          "base_uri": "https://localhost:8080/"
        },
        "id": "LC57DzuWslJK",
        "outputId": "847d8a17-b755-434d-c54b-0c76546d7f19"
      },
      "execution_count": null,
      "outputs": [
        {
          "output_type": "stream",
          "name": "stdout",
          "text": [
            "['안산', '공고']\n"
          ]
        }
      ]
    },
    {
      "cell_type": "code",
      "source": [
        "import random\n",
        "\n",
        "mlist = [\"1. 삶이 있는 한 희망은 있다 -키케로\",\n",
        "\"2. 산다는것 그것은 치열한 전투이다. -로망로랑\",\n",
        "\"3. 하루에 3시간을 걸으면 7년 후에 지구를 한바퀴 돌 수 있다. -사무엘존슨\",\n",
        "\"4. 언제나 현재에 집중할수 있다면 행복할것이다. -파울로 코엘료\",\n",
        "\"5. 진정으로 웃으려면 고통을 참아야하며 , 나아가 고통을 즐길 줄 알아야 해 -찰리 채플린\",\n",
        "\"6. 직업에서 행복을 찾아라. 아니면 행복이 무엇인지 절대 모를 것이다 -엘버트 허버드\",\n",
        "\"7. 신은 용기있는자를 결코 버리지 않는다 -켄러\",\n",
        "\"8. 행복의 문이 하나 닫히면 다른 문이 열린다 그러나 우리는 종종 닫힌 문을 멍하니 바라보다가\",\n",
        "\"9.우리를 향해 열린 문을 보지 못하게 된다 – 헬렌켈러\",\n",
        "\"10. 피할수 없으면 즐겨라 – 로버트 엘리엇\"]\n",
        "\n",
        "\n",
        "rnd = random.randint(0,len(mlist)-1)\n",
        "rnd_say = mlist[rnd]\n",
        "\n",
        "print(\"오늘의 명언 ==> \",rnd_say)\n",
        "\n",
        "\n"
      ],
      "metadata": {
        "id": "vW-Oj1ZUud9D",
        "colab": {
          "base_uri": "https://localhost:8080/"
        },
        "outputId": "c32ffa3e-0efa-4775-e714-d3ad8d68f4ca"
      },
      "execution_count": 32,
      "outputs": [
        {
          "output_type": "stream",
          "name": "stdout",
          "text": [
            "오늘의 명언 ==>  9.우리를 향해 열린 문을 보지 못하게 된다 – 헬렌켈러\n"
          ]
        }
      ]
    }
  ]
}