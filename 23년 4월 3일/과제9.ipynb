{
  "nbformat": 4,
  "nbformat_minor": 0,
  "metadata": {
    "colab": {
      "provenance": []
    },
    "kernelspec": {
      "name": "python3",
      "display_name": "Python 3"
    },
    "language_info": {
      "name": "python"
    }
  },
  "cells": [
    {
      "cell_type": "code",
      "execution_count": 12,
      "metadata": {
        "colab": {
          "base_uri": "https://localhost:8080/"
        },
        "id": "oghtrPfaczys",
        "outputId": "44790b02-57bb-419e-e71c-73dfe499afe9"
      },
      "outputs": [
        {
          "output_type": "stream",
          "name": "stdout",
          "text": [
            "컴퓨터과 1 반\n",
            "컴퓨터과 2 반\n",
            "컴퓨터과 3 반\n"
          ]
        }
      ],
      "source": [
        "for i in range(1,4,1):\n",
        "  print(\"컴퓨터과\",i,\"반\")"
      ]
    },
    {
      "cell_type": "code",
      "source": [
        "for i in range(1,4,1):\n",
        "  print(\"컴퓨터과\",i,\"반\")"
      ],
      "metadata": {
        "colab": {
          "base_uri": "https://localhost:8080/"
        },
        "id": "jaVX5aBFecon",
        "outputId": "e4ce3a3d-f013-4616-d820-dd57b9cb6def"
      },
      "execution_count": 28,
      "outputs": [
        {
          "output_type": "stream",
          "name": "stdout",
          "text": [
            "컴퓨터과 1 반\n",
            "컴퓨터과 2 반\n",
            "컴퓨터과 3 반\n"
          ]
        }
      ]
    },
    {
      "cell_type": "code",
      "source": [
        "a = 1;\n",
        "for i in range(1,6,1):\n",
        "  a = a*i\n",
        "print(\"A,B,C,D,E 학생을 일렬로 서면:\",a)\n"
      ],
      "metadata": {
        "colab": {
          "base_uri": "https://localhost:8080/"
        },
        "id": "oM7ekoSrfVUw",
        "outputId": "38ec9fe2-2f16-469f-d9bd-9bbfd93aa436"
      },
      "execution_count": 34,
      "outputs": [
        {
          "output_type": "stream",
          "name": "stdout",
          "text": [
            "A,B,C,D,E 학생을 일렬로 서면: 120\n"
          ]
        }
      ]
    },
    {
      "cell_type": "code",
      "source": [
        "sum = 0\n",
        "\n",
        "for i in range(1001,2001,2):\n",
        "  sum = sum+i\n",
        "print(sum)\n"
      ],
      "metadata": {
        "colab": {
          "base_uri": "https://localhost:8080/"
        },
        "id": "pU-t9WIwhze4",
        "outputId": "ee497d09-01d8-41d2-c734-4c341cf731e6"
      },
      "execution_count": 40,
      "outputs": [
        {
          "output_type": "stream",
          "name": "stdout",
          "text": [
            "750000\n"
          ]
        }
      ]
    },
    {
      "cell_type": "code",
      "source": [
        "sum = 0\n",
        "\n",
        "for i in range(1001,2001,2):\n",
        "  if i%2 == 1:\n",
        "    sum = sum + i\n",
        "print(sum)\n"
      ],
      "metadata": {
        "colab": {
          "base_uri": "https://localhost:8080/"
        },
        "id": "qx21pvT3jb0A",
        "outputId": "e3a0482f-315f-4aab-a049-dcbdaac39cf6"
      },
      "execution_count": 41,
      "outputs": [
        {
          "output_type": "stream",
          "name": "stdout",
          "text": [
            "750000\n"
          ]
        }
      ]
    },
    {
      "cell_type": "code",
      "source": [
        "i, hap = 0, 0\n",
        "for i in range(500,1001,2):\n",
        "  hap = hap+i\n",
        "print(hap)"
      ],
      "metadata": {
        "colab": {
          "base_uri": "https://localhost:8080/"
        },
        "id": "yjAGYd0kjqUZ",
        "outputId": "cecc6970-60d3-4bf4-c9d3-5c248bd7b478"
      },
      "execution_count": 44,
      "outputs": [
        {
          "output_type": "stream",
          "name": "stdout",
          "text": [
            "188250\n"
          ]
        }
      ]
    },
    {
      "cell_type": "code",
      "source": [
        "for i in range(3):\n",
        "  for k in range(3):\n",
        "    print(i,k)"
      ],
      "metadata": {
        "colab": {
          "base_uri": "https://localhost:8080/"
        },
        "id": "_hanwqJRktEB",
        "outputId": "750df8cc-298f-4860-9474-f62e19359be7"
      },
      "execution_count": 54,
      "outputs": [
        {
          "output_type": "stream",
          "name": "stdout",
          "text": [
            "0 0\n",
            "0 1\n",
            "0 2\n",
            "1 0\n",
            "1 1\n",
            "1 2\n",
            "2 0\n",
            "2 1\n",
            "2 2\n"
          ]
        }
      ]
    },
    {
      "cell_type": "code",
      "source": [
        "for i in range(1,10,1):\n",
        " for k in range(2,10,1):\n",
        "   print(k,\"X\",i,\"=\",i*k,end=\" \")\n",
        " print(\"\\n\")"
      ],
      "metadata": {
        "colab": {
          "base_uri": "https://localhost:8080/"
        },
        "id": "cL1xGKpFq05x",
        "outputId": "018f53b5-d0b8-4f05-c883-e68599996a9c"
      },
      "execution_count": 84,
      "outputs": [
        {
          "output_type": "stream",
          "name": "stdout",
          "text": [
            "2 X 1 = 2 3 X 1 = 3 4 X 1 = 4 5 X 1 = 5 6 X 1 = 6 7 X 1 = 7 8 X 1 = 8 9 X 1 = 9 \n",
            "\n",
            "2 X 2 = 4 3 X 2 = 6 4 X 2 = 8 5 X 2 = 10 6 X 2 = 12 7 X 2 = 14 8 X 2 = 16 9 X 2 = 18 \n",
            "\n",
            "2 X 3 = 6 3 X 3 = 9 4 X 3 = 12 5 X 3 = 15 6 X 3 = 18 7 X 3 = 21 8 X 3 = 24 9 X 3 = 27 \n",
            "\n",
            "2 X 4 = 8 3 X 4 = 12 4 X 4 = 16 5 X 4 = 20 6 X 4 = 24 7 X 4 = 28 8 X 4 = 32 9 X 4 = 36 \n",
            "\n",
            "2 X 5 = 10 3 X 5 = 15 4 X 5 = 20 5 X 5 = 25 6 X 5 = 30 7 X 5 = 35 8 X 5 = 40 9 X 5 = 45 \n",
            "\n",
            "2 X 6 = 12 3 X 6 = 18 4 X 6 = 24 5 X 6 = 30 6 X 6 = 36 7 X 6 = 42 8 X 6 = 48 9 X 6 = 54 \n",
            "\n",
            "2 X 7 = 14 3 X 7 = 21 4 X 7 = 28 5 X 7 = 35 6 X 7 = 42 7 X 7 = 49 8 X 7 = 56 9 X 7 = 63 \n",
            "\n",
            "2 X 8 = 16 3 X 8 = 24 4 X 8 = 32 5 X 8 = 40 6 X 8 = 48 7 X 8 = 56 8 X 8 = 64 9 X 8 = 72 \n",
            "\n",
            "2 X 9 = 18 3 X 9 = 27 4 X 9 = 36 5 X 9 = 45 6 X 9 = 54 7 X 9 = 63 8 X 9 = 72 9 X 9 = 81 \n",
            "\n"
          ]
        }
      ]
    },
    {
      "cell_type": "code",
      "source": [
        "i = 0\n",
        "\n",
        "while(i<3):\n",
        "  print(i)\n",
        "  i = i+1"
      ],
      "metadata": {
        "colab": {
          "base_uri": "https://localhost:8080/"
        },
        "id": "1E7-fF-ft4jh",
        "outputId": "69ccdbd5-335a-4a3e-cbbb-013d11bd8041"
      },
      "execution_count": 86,
      "outputs": [
        {
          "output_type": "stream",
          "name": "stdout",
          "text": [
            "0\n",
            "1\n",
            "2\n"
          ]
        }
      ]
    },
    {
      "cell_type": "code",
      "source": [
        "def menu():\n",
        "  print(\"#######\")\n",
        "  print(\"# 1. 덧셈   #\")\n",
        "  print(\"# 2  뺄셈   #\")\n",
        "  print(\"# 3. 나눗셉   #\")\n",
        "  print(\"# 4. 곳셉   #\")\n",
        "  print(\"# 5. 종료   #\")\n",
        "\n",
        "def add():\n",
        "  num1 = float(input(\"첫번쨰 숫자를 입력: \"))\n",
        "  num2 = float(input(\"두번쨰 숫자를 입력: \"))\n",
        "  sum = num1+num2\n",
        "  return sum\n",
        "\n",
        "def ma():\n",
        "  num1 = float(input(\"첫번쨰 숫자를 입력: \"))\n",
        "  num2 = float(input(\"두번쨰 숫자를 입력: \"))\n",
        "  sum = num1-num2\n",
        "  return sum\n",
        "\n",
        "def na():\n",
        "  num1 = float(input(\"첫번쨰 숫자를 입력: \"))\n",
        "  num2 = float(input(\"두번쨰 숫자를 입력: \"))\n",
        "  sum = num1/num2\n",
        "  return sum\n",
        "\n",
        "def gob():\n",
        "  num1 = float(input(\"첫번쨰 숫자를 입력: \"))\n",
        "  num2 = float(input(\"두번쨰 숫자를 입력: \"))\n",
        "  sum = num1*num2\n",
        "  return sum\n",
        "\n",
        "\n",
        "while True:\n",
        "  menu()\n",
        "  select = int(input(\"메뉴를 선택: \"))\n",
        "  if select== 5:\n",
        "    break\n",
        "  elif select == 1:\n",
        "    sum = add()\n",
        "    print(\"두수의 덧셈 결과: \", sum)\n",
        "  elif select ==2:\n",
        "    ma = ma()\n",
        "    print(\"두수의 뺄셈 결과: \", ma)\n",
        "  elif select ==3:\n",
        "    na = na()\n",
        "    print(\"두수의 나눗셈 결과: \", na)\n",
        "  elif select ==4:\n",
        "    gob = gob()\n",
        "    print(\"두수의 곳셉 결과: \", gob)"
      ],
      "metadata": {
        "colab": {
          "base_uri": "https://localhost:8080/"
        },
        "id": "0y4jA-Rvu1Cg",
        "outputId": "38494bec-a0f1-4ad4-9456-8b2c91e93f1c"
      },
      "execution_count": 5,
      "outputs": [
        {
          "name": "stdout",
          "output_type": "stream",
          "text": [
            "#######\n",
            "# 1. 덧셈   #\n",
            "# 2  뺄셈   #\n",
            "# 3. 나눗셉   #\n",
            "# 4. 곳셉   #\n",
            "# 5. 종료   #\n",
            "메뉴를 선택: 1\n",
            "첫번쨰 숫자를 입력: 10\n",
            "두번쨰 숫자를 입력: 30\n",
            "두수의 덧셈 결과:  40.0\n",
            "#######\n",
            "# 1. 덧셈   #\n",
            "# 2  뺄셈   #\n",
            "# 3. 나눗셉   #\n",
            "# 4. 곳셉   #\n",
            "# 5. 종료   #\n",
            "메뉴를 선택: 2\n",
            "첫번쨰 숫자를 입력: 30\n",
            "두번쨰 숫자를 입력: 20\n",
            "두수의 뺄셈 결과:  10.0\n",
            "#######\n",
            "# 1. 덧셈   #\n",
            "# 2  뺄셈   #\n",
            "# 3. 나눗셉   #\n",
            "# 4. 곳셉   #\n",
            "# 5. 종료   #\n",
            "메뉴를 선택: 3\n",
            "첫번쨰 숫자를 입력: 20\n",
            "두번쨰 숫자를 입력: 10\n",
            "두수의 나눗셈 결과:  2.0\n",
            "#######\n",
            "# 1. 덧셈   #\n",
            "# 2  뺄셈   #\n",
            "# 3. 나눗셉   #\n",
            "# 4. 곳셉   #\n",
            "# 5. 종료   #\n",
            "메뉴를 선택: 4\n",
            "첫번쨰 숫자를 입력: 30\n",
            "두번쨰 숫자를 입력: 20\n",
            "두수의 곳셉 결과:  600.0\n",
            "#######\n",
            "# 1. 덧셈   #\n",
            "# 2  뺄셈   #\n",
            "# 3. 나눗셉   #\n",
            "# 4. 곳셉   #\n",
            "# 5. 종료   #\n",
            "메뉴를 선택: 5\n"
          ]
        }
      ]
    },
    {
      "cell_type": "code",
      "source": [
        "for i in [0,1,2,3,4] :\n",
        "  print(i, \"컴퓨터과 3학년 1반\")"
      ],
      "metadata": {
        "colab": {
          "base_uri": "https://localhost:8080/"
        },
        "id": "lwm7MRBFdj5Z",
        "outputId": "1d6dfd68-c336-4b40-d930-617ae8419d09"
      },
      "execution_count": 14,
      "outputs": [
        {
          "output_type": "stream",
          "name": "stdout",
          "text": [
            "0 컴퓨터과 3학년 1반\n",
            "1 컴퓨터과 3학년 1반\n",
            "2 컴퓨터과 3학년 1반\n",
            "3 컴퓨터과 3학년 1반\n",
            "4 컴퓨터과 3학년 1반\n"
          ]
        }
      ]
    },
    {
      "cell_type": "code",
      "source": [
        "for i in [\"봄\",\"여름\",\"가을\",\"겨울\"] :\n",
        "  print(i, \"컴퓨터과 3학년 1반\")"
      ],
      "metadata": {
        "colab": {
          "base_uri": "https://localhost:8080/"
        },
        "id": "R78zmH3Xd9Nf",
        "outputId": "c487e927-6e79-457c-cc72-5ac6bd48c923"
      },
      "execution_count": 16,
      "outputs": [
        {
          "output_type": "stream",
          "name": "stdout",
          "text": [
            "봄 컴퓨터과 3학년 1반\n",
            "여름 컴퓨터과 3학년 1반\n",
            "가을 컴퓨터과 3학년 1반\n",
            "겨울 컴퓨터과 3학년 1반\n"
          ]
        }
      ]
    }
  ]
}