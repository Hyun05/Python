{
  "nbformat": 4,
  "nbformat_minor": 0,
  "metadata": {
    "colab": {
      "provenance": []
    },
    "kernelspec": {
      "name": "python3",
      "display_name": "Python 3"
    },
    "language_info": {
      "name": "python"
    }
  },
  "cells": [
    {
      "cell_type": "code",
      "execution_count": 16,
      "metadata": {
        "colab": {
          "base_uri": "https://localhost:8080/"
        },
        "id": "Gbvn8W0YVezC",
        "outputId": "b4cb1ee0-7835-45d8-ff27-ae8af16fae17"
      },
      "outputs": [
        {
          "output_type": "stream",
          "name": "stdout",
          "text": [
            "시험점수를 입력하세요: 70\n",
            "합격\n",
            "축하합니다\n"
          ]
        }
      ],
      "source": [
        "\n",
        "score = int(input(\"시험점수를 입력하세요: \"))\n",
        "\n",
        "if (score >= 60):\n",
        "  print(\"합격\")\n",
        "  print(\"축하합니다\")\n",
        "else :\n",
        "  print(\"불합격\")"
      ]
    },
    {
      "cell_type": "code",
      "source": [
        "3#한줄 주석 연습문\n",
        "\"\"\"\n",
        "{\n",
        "프로그래밍 수업 : 3월 20일,\n",
        "프로그래머 : 강현묵,\n",
        "프로그램 최종 작성일 : 3월 20일,\n",
        "프로그램명 : 학점 계산 프로그램\n",
        "}\n",
        "\"\"\"\n",
        "print(\"파이썬(3) : B(3.5)\\n\")\n",
        "print(\"모바일(2) : A0(4.0)\\n\")\n",
        "print(\"엑셀(1) : A(4.5)\")\n",
        "\n",
        "python = float(input(\"파이썬 성적을 입력(예:3.5): \"))\n",
        "mobile = float(input(\"모바일 성적을 입력: \"))\n",
        "excel = float(input(\"엑셀 성적을 입력: \"))\n",
        "\n",
        "result = (python*3) +(mobile * 2)+(excel * 1);\n",
        "avg= result / 6\n",
        "\n",
        "print(\"평균 학점은\", round(avg,2))"
      ],
      "metadata": {
        "colab": {
          "base_uri": "https://localhost:8080/"
        },
        "id": "RDG59FLdYMPC",
        "outputId": "f6d6e9f0-e6a7-4949-c6a3-df395e1ad4c3"
      },
      "execution_count": 21,
      "outputs": [
        {
          "output_type": "stream",
          "name": "stdout",
          "text": [
            "파이썬(3) : B(3.5)\n",
            "\n",
            "모바일(2) : A0(4.0)\n",
            "\n",
            "엑셀(1) : A(4.5)\n",
            "파이썬 성적을 입력(예:3.5): 32\n",
            "모바일 성적을 입력: 2\n",
            "엑셀 성적을 입력: 3\n",
            "평균 학점은 17.17\n"
          ]
        }
      ]
    },
    {
      "cell_type": "code",
      "source": [
        "print(\"\\n쥴바꿈\\n연습\")\n",
        "print(\"\\t탭키\\t연습\")\n",
        "print(\"어떤 글자를\\\"강조\\\"하는효과1\")\n",
        "print(\"어떤 글자를\\'강조\\'하는효과2\")\n",
        "print(\"\\\\\\\\백슬래시 2개 출력\")\n"
      ],
      "metadata": {
        "colab": {
          "base_uri": "https://localhost:8080/"
        },
        "id": "CqA05896YgJJ",
        "outputId": "e8b1b6c6-131d-49e6-a5f4-b50b10023bb8"
      },
      "execution_count": 33,
      "outputs": [
        {
          "output_type": "stream",
          "name": "stdout",
          "text": [
            "\n",
            "쥴바꿈\n",
            "연습\n",
            "\t탭키\t연습\n",
            "어떤 글자를\"강조\"하는효과1\n",
            "어떤 글자를'강조'하는효과2\n",
            "\\\\백슬래시 2개 출력\n"
          ]
        }
      ]
    },
    {
      "cell_type": "code",
      "source": [
        "first = input(\"첫번쨰 문자열 ==> \")\n",
        "second = input(\"두번쨰 문자열 ==> \")\n",
        "\n",
        "len1 = len(first) - len(second)\n",
        "\n",
        "print(\"두 문자열의 길이 차이는\", len1  , \"입니다.\")\n"
      ],
      "metadata": {
        "colab": {
          "base_uri": "https://localhost:8080/"
        },
        "id": "5Ls61iqxeiri",
        "outputId": "7072fe07-f338-44b0-b73f-aa2a91b2303b"
      },
      "execution_count": 35,
      "outputs": [
        {
          "output_type": "stream",
          "name": "stdout",
          "text": [
            "첫번쨰 문자열 ==> 30\n",
            "두번쨰 문자열 ==> 나느느ㅏ야\n",
            "두 문자열의 길이 차이는 -3 입니다.\n"
          ]
        }
      ]
    },
    {
      "cell_type": "code",
      "source": [
        "first = \"\"\"\n",
        "안산공업고등학교 컴퓨터과, 안산공업고등학교는\n",
        "기계과, 전기과, 전자과, 화공과, 디자인과, 컴퓨터과로 총6개의\n",
        "과로 이루여져 있습니다\n",
        "\"\"\"\n",
        "\n",
        "strl = first.count(\"과\")\n",
        "print(strl)"
      ],
      "metadata": {
        "colab": {
          "base_uri": "https://localhost:8080/"
        },
        "id": "h3SC4_UMh3N6",
        "outputId": "30f17ff8-8cbc-4346-8576-da1428757ad9"
      },
      "execution_count": 39,
      "outputs": [
        {
          "output_type": "stream",
          "name": "stdout",
          "text": [
            "8\n"
          ]
        }
      ]
    },
    {
      "cell_type": "code",
      "source": [
        "#let it be 가사가 몇번 출력되는지 찾는 프로그램\n",
        "gasa = \"\"\"\n",
        "When I find myself in times of trouble, Mother Mary comes to me\n",
        "Speaking words of wisdom, let it be\n",
        "And in my hour of darkness she is standing right in front of me\n",
        "Speaking words of wisdom, let it be\n",
        "Let it be, let it be, let it be, let it be\n",
        "Whisper words of wisdom, let it be\n",
        "And when the broken hearted people living in the world agree\n",
        "There will be an answer, let it be\n",
        "For though they may be parted, there is still a chance that they will see\n",
        "There will be an answer, let it be\n",
        "Let it be, let it be, let it be, let it be\n",
        "There will be an answer, let it be\n",
        "Let it be, let it be, let it be, let it be\n",
        "Whisper words of wisdom, let it be\n",
        "Let it be, let it be, let it be, let it be\n",
        "Whisper words of wisdom, let it be, be\n",
        "And when the night is cloudy there is still a light that shines on me\n",
        "Shinin' until tomorrow, let it be\n",
        "I wake up to the sound of music, Mother Mary comes to me\n",
        "Speaking words of wisdom, let it be\n",
        "And let it be, let it be, let it be, let it be\n",
        "Whisper words of wisdom, let it be\n",
        "And let it be, let it be, let it be, let it be\n",
        "Whisper words of wisdom, let it be\n",
        "\"\"\"\n",
        "var1 = gasa.replace(\"Let it be\",\"let it be\")\n",
        "\n",
        "print(\"let it be의 갯수는:\",var1.count(\"let it be\"),\"개입니다\")\n",
        "\n"
      ],
      "metadata": {
        "colab": {
          "base_uri": "https://localhost:8080/"
        },
        "id": "gUMsRpCYjwna",
        "outputId": "75772a04-30e0-4c5a-d3e8-5ba22bba2ba4"
      },
      "execution_count": 46,
      "outputs": [
        {
          "output_type": "stream",
          "name": "stdout",
          "text": [
            "let it be의 갯수는: 36 개입니다\n"
          ]
        }
      ]
    }
  ]
}