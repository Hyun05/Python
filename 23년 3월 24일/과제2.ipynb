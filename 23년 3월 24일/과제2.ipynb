{
  "nbformat": 4,
  "nbformat_minor": 0,
  "metadata": {
    "colab": {
      "provenance": []
    },
    "kernelspec": {
      "name": "python3",
      "display_name": "Python 3"
    },
    "language_info": {
      "name": "python"
    }
  },
  "cells": [
    {
      "cell_type": "code",
      "execution_count": 2,
      "metadata": {
        "colab": {
          "base_uri": "https://localhost:8080/"
        },
        "id": "gBMP5gJNaCWa",
        "outputId": "85d74a84-8d43-45d7-f79d-f3c61a0743c9"
      },
      "outputs": [
        {
          "output_type": "stream",
          "name": "stdout",
          "text": [
            "100보다 큽니다\n",
            "프로그램\n",
            "끝\n"
          ]
        }
      ],
      "source": [
        "num = 200\n",
        "\n",
        "if num> 100:\n",
        "  print(\"100보다 큽니다\")\n",
        "  print(\"프로그램\")\n",
        "  print(\"끝\")"
      ]
    },
    {
      "cell_type": "code",
      "source": [
        "num = int(input(\"정수를 입력: \"))\n",
        "\n",
        "if num%2 == 0:\n",
        "  print(\"짝수\")\n",
        "else:\n",
        "    print(\"홀수\")"
      ],
      "metadata": {
        "colab": {
          "base_uri": "https://localhost:8080/"
        },
        "id": "mTf3FtAaaVeR",
        "outputId": "60a827f7-f140-4938-c35f-e1ee6b67e958"
      },
      "execution_count": 4,
      "outputs": [
        {
          "output_type": "stream",
          "name": "stdout",
          "text": [
            "정수를 입력: 10\n",
            "짝수\n"
          ]
        }
      ]
    },
    {
      "cell_type": "code",
      "source": [
        "num = int(input(\"숫자를 입력: \"))\n",
        "\n",
        "if num>=100:\n",
        "  if(num <= 1000):\n",
        "   print(\"100에서 1000 사이다\")\n",
        "  else:\n",
        "   print(\"1000보다 크다\")\n",
        "else:\n",
        "   print(\"100보다 작다\")"
      ],
      "metadata": {
        "colab": {
          "base_uri": "https://localhost:8080/"
        },
        "id": "l1oR_27YavCn",
        "outputId": "687553c4-93b9-45a0-faec-627008d36444"
      },
      "execution_count": 27,
      "outputs": [
        {
          "output_type": "stream",
          "name": "stdout",
          "text": [
            "숫자를 입력: 10\n",
            "100보다 작다\n"
          ]
        }
      ]
    },
    {
      "cell_type": "code",
      "source": [
        "num = int(input(\"숫자를 입력: \"))\n",
        "s = \"학점입니다\"\n",
        "\n",
        "if(num >=90):\n",
        "  print(\"A\",s)\n",
        "else:\n",
        "  if(num >=80):\n",
        "    print(\"B\",s)\n",
        "  else:\n",
        "    if(num>=70):\n",
        "      print(\"C\",s)\n",
        "    else:\n",
        "      if(num>=60):\n",
        "        print(\"D\",s)\n",
        "      else:\n",
        "        print(\"다른 학점 입니다\")"
      ],
      "metadata": {
        "id": "iHM4YNlKcUTI"
      },
      "execution_count": null,
      "outputs": []
    },
    {
      "cell_type": "code",
      "source": [],
      "metadata": {
        "id": "p0tOpsr8fcHB"
      },
      "execution_count": null,
      "outputs": []
    }
  ]
}