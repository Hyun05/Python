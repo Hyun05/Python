{
  "nbformat": 4,
  "nbformat_minor": 0,
  "metadata": {
    "colab": {
      "provenance": []
    },
    "kernelspec": {
      "name": "python3",
      "display_name": "Python 3"
    },
    "language_info": {
      "name": "python"
    }
  },
  "cells": [
    {
      "cell_type": "code",
      "source": [
        "str = \"2smsfsdaasdfaaasadasda\"\n",
        "result = str.find('a')\n",
        "\n",
        "print(result,\"번쨰에 있습니다\")"
      ],
      "metadata": {
        "colab": {
          "base_uri": "https://localhost:8080/"
        },
        "id": "XgbFWZbEJuJR",
        "outputId": "0d2cb0b7-9eb1-4430-dc51-33f45fc96e87"
      },
      "execution_count": 7,
      "outputs": [
        {
          "output_type": "stream",
          "name": "stdout",
          "text": [
            "7 번쨰에 있습니다\n"
          ]
        }
      ]
    },
    {
      "cell_type": "code",
      "source": [
        "singer = [ \"트\", \"와\", \"이\", \"스\" ]\n",
        "rever = singer[::-1]\n",
        "\n",
        "print(\"원본 문자열: \", singer)\n",
        "print(\"반대 문자열\", rever)"
      ],
      "metadata": {
        "colab": {
          "base_uri": "https://localhost:8080/"
        },
        "id": "HmWxZ065NODA",
        "outputId": "2f08ceb6-d2ca-415d-aee0-c021b5efc9e3"
      },
      "execution_count": 15,
      "outputs": [
        {
          "output_type": "stream",
          "name": "stdout",
          "text": [
            "원본 문자열:  ['트', '와', '이', '스']\n",
            "반대 문자열 ['스', '이', '와', '트']\n"
          ]
        }
      ]
    },
    {
      "cell_type": "code",
      "source": [
        "singer = \"트와이스\"\n",
        "\n",
        "print(\"원본 문자열: \", singer)\n",
        "print(\"거꾸로 문자열: \", singer[::-1]) "
      ],
      "metadata": {
        "colab": {
          "base_uri": "https://localhost:8080/"
        },
        "id": "FCsVViX9PqXg",
        "outputId": "91d7d871-08ad-455f-c0cc-4fa9efc7339b"
      },
      "execution_count": 25,
      "outputs": [
        {
          "output_type": "stream",
          "name": "stdout",
          "text": [
            "원본 문자열:  트와이스\n",
            "거꾸로 문자열:  스이와트\n"
          ]
        }
      ]
    },
    {
      "cell_type": "code",
      "source": [
        "r = \"\"\n",
        "for i in input(\"원본 문자열\"):\n",
        "    if i.islower():\n",
        "        r += i.upper()\n",
        "    else:\n",
        "        r += i.lower()\n",
        "print(r)"
      ],
      "metadata": {
        "colab": {
          "base_uri": "https://localhost:8080/"
        },
        "id": "AURrA_YeQtHp",
        "outputId": "9154520a-590e-4f38-db40-cd47967e6e3f"
      },
      "execution_count": 8,
      "outputs": [
        {
          "output_type": "stream",
          "name": "stdout",
          "text": [
            "원본 문자열Pyhon\n",
            "pYHON\n"
          ]
        }
      ]
    },
    {
      "cell_type": "code",
      "source": [
        "sm = \"Python\"\n",
        "\n",
        "print(\"원본 문자열\", sm)\n",
        "print(\"\")"
      ],
      "metadata": {
        "id": "HpAGgB_FT1GQ"
      },
      "execution_count": null,
      "outputs": []
    },
    {
      "cell_type": "markdown",
      "source": [],
      "metadata": {
        "id": "faap5PpUZp4A"
      }
    },
    {
      "cell_type": "code",
      "source": [
        "\n"
      ],
      "metadata": {
        "id": "QJz97QLZSlSx"
      },
      "execution_count": null,
      "outputs": []
    }
  ]
}