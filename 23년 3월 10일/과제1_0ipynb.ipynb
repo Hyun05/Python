{
  "nbformat": 4,
  "nbformat_minor": 0,
  "metadata": {
    "colab": {
      "provenance": []
    },
    "kernelspec": {
      "name": "python3",
      "display_name": "Python 3"
    },
    "language_info": {
      "name": "python"
    }
  },
  "cells": [
    {
      "cell_type": "code",
      "execution_count": null,
      "metadata": {
        "id": "W397XuCqVmV4"
      },
      "outputs": [],
      "source": []
    },
    {
      "cell_type": "code",
      "source": [
        "print('##택배를 보내기 위한 정보를 입력하세요##');\n",
        "recieve_name = input(\"받는사람: \" )\n",
        "address = input('주소: ')\n",
        "weight = int(input(\"무게(g): \"))\n",
        "\n",
        "print(\"## 받는사람 ==>\",recieve_name)\n",
        "print(\"## 주소 ==>\",address)\n",
        "print(\"## 배송비 ==>\",weight*5)\n"
      ],
      "metadata": {
        "id": "lqI16xsWVnN6",
        "colab": {
          "base_uri": "https://localhost:8080/"
        },
        "outputId": "43143eb4-641d-4410-c3d8-b06f7723eea5"
      },
      "execution_count": null,
      "outputs": [
        {
          "output_type": "stream",
          "name": "stdout",
          "text": [
            "##택배를 보내기 위한 정보를 입력하세요##\n",
            "받는사람: 강현묵\n",
            "주소: 경기도 시흥시\n",
            "무게(g): 500\n",
            "## 받는사람 ==> 강현묵\n",
            "## 주소 ==> 경기도 시흥시\n",
            "## 배송비 ==> 2500\n"
          ]
        }
      ]
    }
  ]
}