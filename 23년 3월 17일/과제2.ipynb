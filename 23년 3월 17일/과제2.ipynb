{
  "nbformat": 4,
  "nbformat_minor": 0,
  "metadata": {
    "colab": {
      "provenance": []
    },
    "kernelspec": {
      "name": "python3",
      "display_name": "Python 3"
    },
    "language_info": {
      "name": "python"
    }
  },
  "cells": [
    {
      "cell_type": "code",
      "execution_count": 12,
      "metadata": {
        "colab": {
          "base_uri": "https://localhost:8080/"
        },
        "id": "51S-fyybKhdt",
        "outputId": "9d52b2a3-231c-4446-8451-1d6706df945e"
      },
      "outputs": [
        {
          "output_type": "stream",
          "name": "stdout",
          "text": [
            "파운드(lb)를 입력하세요: 15\n",
            "15.0 파운드(lb)는 33.06935 킬로그램(kb)입니다\n",
            "킬로그램(kg)를 입력하세요: 15\n",
            "15.0 킬로그램(kg)는 6.80388 파운드(lb)입니다\n"
          ]
        }
      ],
      "source": [
        "num1 = float(input(\"파운드(lb)를 입력하세요: \"))\n",
        "sum1 =  round(num1 * 2.204623,5)\n",
        "print(num1,\"파운드(lb)는\", sum1, \"킬로그램(kb)입니다\")\n",
        "\n",
        "num2 = float(input(\"킬로그램(kg)를 입력하세요: \"))\n",
        "sum2 =  round(num2 * 0.453592,5)\n",
        "print(num2,\"킬로그램(kg)는\", sum2, \"파운드(lb)입니다\")\n",
        "\n"
      ]
    }
  ]
}