{
  "nbformat": 4,
  "nbformat_minor": 0,
  "metadata": {
    "colab": {
      "provenance": [],
      "toc_visible": true
    },
    "kernelspec": {
      "name": "python3",
      "display_name": "Python 3"
    },
    "language_info": {
      "name": "python"
    }
  },
  "cells": [
    {
      "cell_type": "code",
      "execution_count": 9,
      "metadata": {
        "colab": {
          "base_uri": "https://localhost:8080/"
        },
        "id": "GxfUSHUcGeAd",
        "outputId": "981de726-e81a-4be6-c9a1-4fdc25cfee1f"
      },
      "outputs": [
        {
          "output_type": "stream",
          "name": "stdout",
          "text": [
            "숫자1 ==> 100\n",
            "숫자2 ==> 10\n",
            "100 + 10 = 110\n",
            "100 - 10 = 90\n",
            "100 * 10 = 1000\n",
            "100 / 10 = 10.0\n",
            "100 % 10 = 0\n",
            "100 ** 10 = 100000000000000000000\n"
          ]
        }
      ],
      "source": [
        "from typing import no_type_check\n",
        "num1 = int(input(\"숫자1 ==> \"))\n",
        "num2 = int(input(\"숫자2 ==> \"))\n",
        "\n",
        "sum = num1 + num2\n",
        "sum1 =  num1 - num2\n",
        "sum2 = num1 * num2\n",
        "sum3 = num1 / num2\n",
        "sum4 = num1 % num2\n",
        "sum5 = num1 ** num2\n",
        "\n",
        "print(num1, \"+\", num2, \"=\", sum)\n",
        "print(num1, \"-\", num2, \"=\", sum1)\n",
        "print(num1, \"*\", num2, \"=\", sum2)\n",
        "print(num1, \"/\", num2, \"=\", sum3)\n",
        "print(num1, \"%\", num2, \"=\", sum4)\n",
        "print(num1, \"**\", num2, \"=\", sum5)\n"
      ]
    }
  ]
}