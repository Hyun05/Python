{
  "nbformat": 4,
  "nbformat_minor": 0,
  "metadata": {
    "colab": {
      "provenance": [],
      "toc_visible": true
    },
    "kernelspec": {
      "name": "python3",
      "display_name": "Python 3"
    },
    "language_info": {
      "name": "python"
    }
  },
  "cells": [
    {
      "cell_type": "code",
      "execution_count": 8,
      "metadata": {
        "colab": {
          "base_uri": "https://localhost:8080/"
        },
        "id": "G1zna8D8TZC1",
        "outputId": "b302925a-8e26-4ea5-9891-e1bbaae9620e"
      },
      "outputs": [
        {
          "output_type": "stream",
          "name": "stdout",
          "text": [
            "삼각김밥(900원) 10개 구입\n",
            "바나나맛 우유(1800원)  2개 판매\n",
            "도시락(3500원) 5개 구입\n",
            "도시락(4000원) 4개 판매\n",
            "콜라(1500원) 1개 판매\n",
            "새우깡(2000원) 4개 판매\n",
            "캔커피(1800원) 5개 판매\n",
            "\n",
            "오늘 총 매출액은 11600 원 입니다\n"
          ]
        }
      ],
      "source": [
        "a = 900 * 10\n",
        "b = 1800 * 2\n",
        "c = 3500 * 5\n",
        "d = 4000 * 4\n",
        "e = 1500\n",
        "f = 2000 * 4\n",
        "g = 1800 * 5\n",
        "\n",
        "print(\"삼각김밥(900원) 10개 구입\")\n",
        "print(\"바나나맛 우유(1800원)  2개 판매\")\n",
        "print(\"도시락(3500원) 5개 구입\")\n",
        "print(\"도시락(4000원) 4개 판매\")\n",
        "print(\"콜라(1500원) 1개 판매\")\n",
        "print(\"새우깡(2000원) 4개 판매\")\n",
        "print(\"캔커피(1800원) 5개 판매\\n\")\n",
        "print(\"오늘 총 매출액은\",b-a-c+d+e+f+g,\"원 입니다\")"
      ]
    }
  ]
}